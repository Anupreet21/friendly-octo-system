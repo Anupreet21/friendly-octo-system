{
    "nbformat_minor": 1, 
    "cells": [
        {
            "source": "# DATA\n", 
            "cell_type": "markdown", 
            "metadata": {
                "collapsed": true
            }
        }, 
        {
            "source": "In the project the data will be derived by scraping it from the wikipeadia pages;'https://en.wikipedia.org/wiki/Demographics_of_Toronto', 'https://en.wikipedia.org/wiki/Demographics_of_New_York_City' for extracting data points for the demograpics of the neighbourhoods in toronto and new york respectively and 'https://en.wikipedia.org/wiki/List_of_New_York_locations_by_per_capita_income' , 'https://en.wikipedia.org/wiki/Demographics_of_Toronto' inorder to get the relative data points for the per capita income. Foursqure location data can be used to get reletive information about how frequent the people visit certain restaurants and how much the spend on their each visit. This study will help in determining an aspect of the culture of the people living in each of the cities as to how social they are.", 
            "cell_type": "markdown", 
            "metadata": {}
        }
    ], 
    "metadata": {
        "kernelspec": {
            "display_name": "Python 3.5", 
            "name": "python3", 
            "language": "python"
        }, 
        "language_info": {
            "mimetype": "text/x-python", 
            "nbconvert_exporter": "python", 
            "version": "3.5.5", 
            "name": "python", 
            "file_extension": ".py", 
            "pygments_lexer": "ipython3", 
            "codemirror_mode": {
                "version": 3, 
                "name": "ipython"
            }
        }
    }, 
    "nbformat": 4
}