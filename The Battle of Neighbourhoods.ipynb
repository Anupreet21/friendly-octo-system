{
    "nbformat_minor": 1, 
    "cells": [
        {
            "source": "# INTRODUCTION", 
            "cell_type": "markdown", 
            "metadata": {
                "collapsed": true
            }
        }, 
        {
            "source": "The Project will focus upon extracting the similiarities and dissimiliarities between the neighbougoods of New York and Toronto by using methods like segmenting, clustering and foursquare location data. The study will focus towards income and demographics of the people living in these neighbourhoods, which will in return help us to derive certain economic data such as per capita income etc. The calculation of the per capita income will help in better understanding of the areas where more social security spending is required by the government.", 
            "cell_type": "markdown", 
            "metadata": {}
        }, 
        {
            "execution_count": null, 
            "cell_type": "code", 
            "metadata": {}, 
            "outputs": [], 
            "source": ""
        }
    ], 
    "metadata": {
        "kernelspec": {
            "display_name": "Python 3.5", 
            "name": "python3", 
            "language": "python"
        }, 
        "language_info": {
            "mimetype": "text/x-python", 
            "nbconvert_exporter": "python", 
            "version": "3.5.5", 
            "name": "python", 
            "file_extension": ".py", 
            "pygments_lexer": "ipython3", 
            "codemirror_mode": {
                "version": 3, 
                "name": "ipython"
            }
        }
    }, 
    "nbformat": 4
}