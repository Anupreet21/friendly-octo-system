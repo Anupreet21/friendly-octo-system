{
    "nbformat_minor": 1, 
    "cells": [
        {
            "source": "# INTRODUCTION", 
            "cell_type": "markdown", 
            "metadata": {
                "collapsed": true
            }
        }, 
        {
            "source": "The Project will focus upon extracting the similiarities and dissimiliarities between the neighbougoods of New York and Toronto by using methods like segmenting, clustering and foursquare location data. The study will focus towards income and demographics of the people living in these neighbourhoods, which will in return help us to derive certain economic data such as per capita income etc. Further Foursquare location data will be used to determint the frequency of visits by these people to restaurants in the vicinity which will inturn help in understanding how much socially occupied these people are.", 
            "cell_type": "markdown", 
            "metadata": {}
        }, 
        {
            "execution_count": null, 
            "cell_type": "code", 
            "metadata": {}, 
            "outputs": [], 
            "source": ""
        }
    ], 
    "metadata": {
        "kernelspec": {
            "display_name": "Python 3.5", 
            "name": "python3", 
            "language": "python"
        }, 
        "language_info": {
            "mimetype": "text/x-python", 
            "nbconvert_exporter": "python", 
            "version": "3.5.5", 
            "name": "python", 
            "file_extension": ".py", 
            "pygments_lexer": "ipython3", 
            "codemirror_mode": {
                "version": 3, 
                "name": "ipython"
            }
        }
    }, 
    "nbformat": 4
}